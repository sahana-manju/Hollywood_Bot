{
 "cells": [
  {
   "cell_type": "code",
   "execution_count": 1,
   "id": "90ce8a8b-3c01-4adb-8c8f-5f4f5bbdd388",
   "metadata": {},
   "outputs": [
    {
     "name": "stderr",
     "output_type": "stream",
     "text": [
      "/Users/sahanamanjunath/anaconda3/lib/python3.11/site-packages/huggingface_hub/file_download.py:1142: FutureWarning: `resume_download` is deprecated and will be removed in version 1.0.0. Downloads always resume when possible. If you want to force a new download, use `force_download=True`.\n",
      "  warnings.warn(\n"
     ]
    },
    {
     "name": "stdout",
     "output_type": "stream",
     "text": [
      "You: My friends are cool but they eat too many carbs\n",
      "Chatbot:  do you want to go to the bar with them? i'd love to go with you.\n",
      "You: But I don't know you so well\n",
      "Chatbot:  you don't need to know me. i am not your friend. you are not a good friend.\n",
      "You: then why do you want to go to the bar with me\n",
      "Chatbot:  i don't want to meet you at the bar. i am not your friend. you are not my friend.\n",
      "You: okay you are rude\n",
      "Chatbot:  i am not. i just want to know what you are going to do with the money.\n",
      "You: why should i tell you about my money?\n",
      "Chatbot:  you don't need to tell me about it. i don't want to tell you anything.\n",
      "You: okay then bye\n",
      "Chatbot:  i don't know what to say to you. you don't want to talk to me.\n",
      "You: bye\n",
      "Chatbot:  i don't know what to say to you. you don't want to talk to me.\n",
      "Chatbot: Goodbye! Have a great day!\n"
     ]
    }
   ],
   "source": [
    "import torch\n",
    "from transformers import BlenderbotForConditionalGeneration, BlenderbotTokenizer\n",
    "\n",
    "# Initialize the model architecture (the same architecture you used for fine-tuning)\n",
    "model_name = \"facebook/blenderbot-400M-distill\"  # Or the model you used for training\n",
    "model = BlenderbotForConditionalGeneration.from_pretrained(model_name)\n",
    "tokenizer = BlenderbotTokenizer.from_pretrained(model_name)\n",
    "\n",
    "# Load the saved model weights from model.pth (the custom-trained weights)\n",
    "model.load_state_dict(torch.load('model2.pth'))\n",
    "\n",
    "# Put the model in evaluation mode\n",
    "model.eval()\n",
    "\n",
    "# Move the model to the appropriate device (GPU if available, otherwise CPU)\n",
    "device = torch.device(\"cuda\" if torch.cuda.is_available() else \"cpu\")\n",
    "model.to(device)\n",
    "\n",
    "# Function to generate response with the model\n",
    "def generate_response(input_text):\n",
    "    # Tokenize the user input (no conversation history)\n",
    "    inputs = tokenizer(input_text, return_tensors=\"pt\", padding=True, truncation=True).to(device)\n",
    "\n",
    "    # Generate the response\n",
    "    with torch.no_grad():\n",
    "        outputs = model.generate(\n",
    "            inputs['input_ids'],\n",
    "            attention_mask=inputs['attention_mask'],\n",
    "            max_length=100,  # Limit the response length\n",
    "            num_beams=5,     # Beam search for better quality\n",
    "            no_repeat_ngram_size=3,  # Avoid repeating longer n-grams\n",
    "            early_stopping=True,\n",
    "            #temperature=0.9,  # Add randomness to reduce repetition\n",
    "            top_k=50,  # Consider only the top 50 tokens\n",
    "            #top_p=0.95  # Nucleus sampling (probabilistic selection)\n",
    "        )\n",
    "\n",
    "    # Decode the generated response (skip special tokens)\n",
    "    response = tokenizer.decode(outputs[0], skip_special_tokens=True)\n",
    "    response = response.replace(\"don not\", \"do not\")\n",
    "    response = response.replace(\"can not\", \"cannot\")\n",
    "    response = response.replace(\"didn not\", \"did not\")\n",
    "    return response\n",
    "\n",
    "# Start a conversation (interactive loop)\n",
    "while True:\n",
    "    # Get user input\n",
    "    input_text = input(\"You: \")\n",
    "\n",
    "    # Generate a response based only on the current input (no history)\n",
    "    response = generate_response(input_text)\n",
    "\n",
    "    # Print the chatbot's response\n",
    "    print(f\"Chatbot: {response}\")\n",
    "\n",
    "    if input_text.lower() in ['exit', 'quit', 'bye']:\n",
    "        print(\"Chatbot: Goodbye! Have a great day!\")\n",
    "        break\n"
   ]
  }
 ],
 "metadata": {
  "kernelspec": {
   "display_name": "Python 3 (ipykernel)",
   "language": "python",
   "name": "python3"
  },
  "language_info": {
   "codemirror_mode": {
    "name": "ipython",
    "version": 3
   },
   "file_extension": ".py",
   "mimetype": "text/x-python",
   "name": "python",
   "nbconvert_exporter": "python",
   "pygments_lexer": "ipython3",
   "version": "3.11.4"
  }
 },
 "nbformat": 4,
 "nbformat_minor": 5
}
